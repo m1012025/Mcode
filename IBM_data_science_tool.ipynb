{
  "nbformat": 4,
  "nbformat_minor": 0,
  "metadata": {
    "colab": {
      "private_outputs": true,
      "provenance": []
    },
    "kernelspec": {
      "name": "python3",
      "display_name": "Python 3"
    },
    "language_info": {
      "name": "python"
    }
  },
  "cells": [
    {
      "cell_type": "markdown",
      "source": [
        "Title : IBM data science Tool"
      ],
      "metadata": {
        "id": "4o98LDQth_7w"
      }
    },
    {
      "cell_type": "code",
      "execution_count": null,
      "metadata": {
        "id": "suPGreyigNwF"
      },
      "outputs": [],
      "source": [
        "##IBM data science tool##\n",
        "print('test')"
      ]
    },
    {
      "cell_type": "markdown",
      "source": [
        "Introduction for IBM data Science tool\n",
        "\n",
        "1.   Test1\n",
        "2.   Test2\n",
        "\n"
      ],
      "metadata": {
        "id": "kW-bif7ahT_H"
      }
    },
    {
      "cell_type": "markdown",
      "source": [
        "List of Data Science tool :\n",
        "\n",
        "1.   Julia\n",
        "2.   Python\n",
        "3.   R\n",
        "4.   SQL\n",
        "5.   C++\n",
        "6.   Java\n",
        "7.   Javescript\n",
        "8.   Watson\n",
        "9.   More and More..\n",
        "\n",
        "\n",
        "\n"
      ],
      "metadata": {
        "id": "G1eQjO5tjEuE"
      }
    },
    {
      "cell_type": "markdown",
      "source": [
        "List of data science libraries :\n",
        "\n",
        "1.   TensorFlow\n",
        "2.   NumPy\n",
        "3.   SciPy\n",
        "4.   Pandas\n",
        "5.   Matplotlib \n",
        "6.   Scrapy\n",
        "7.   More and More\n",
        "\n",
        "\n"
      ],
      "metadata": {
        "id": "NenS_C0QlXL0"
      }
    },
    {
      "cell_type": "markdown",
      "source": [
        "$\\hat{Y} = \\hat{\\beta}_{0} + \\sum \\limits _{j=1} ^{p} X_{j}\\hat{\\beta}_{j} $"
      ],
      "metadata": {
        "id": "IHw19YWknn3_"
      }
    },
    {
      "cell_type": "markdown",
      "source": [
        "| tool name | complexity | difficulty |\n",
        "| --- | --- | --- |\n",
        "| SQL | low | low |\n",
        "| python | medium | medium |\n",
        "| C++ | high | high |"
      ],
      "metadata": {
        "id": "gweXmMNam3Km"
      }
    },
    {
      "cell_type": "code",
      "source": [
        "5 * 6"
      ],
      "metadata": {
        "id": "zbHqBZionrLw"
      },
      "execution_count": null,
      "outputs": []
    },
    {
      "cell_type": "code",
      "source": [
        "5 + 2"
      ],
      "metadata": {
        "id": "7wy_FeopqqcA"
      },
      "execution_count": null,
      "outputs": []
    },
    {
      "cell_type": "code",
      "source": [
        "(5+2)*6"
      ],
      "metadata": {
        "id": "gfkaO15vsuiC"
      },
      "execution_count": null,
      "outputs": []
    },
    {
      "cell_type": "code",
      "source": [
        "# Input the number of minutes\n",
        "minutes = int(input(\"Enter the number of minutes: \"))\n",
        "\n",
        "# Convert minutes to hours and minutes\n",
        "hours = minutes // 60\n",
        "remaining_minutes = minutes % 60\n",
        "\n",
        "# Convert to fraction of an hour if less than 60 minutes\n",
        "if minutes < 60:\n",
        "    hours = 0\n",
        "    remaining_minutes = minutes / 60\n",
        "\n",
        "# Output the result\n",
        "print(f\"{minutes} minutes is equivalent to {hours} hour(s) and {remaining_minutes:.1f} hour(s).\")"
      ],
      "metadata": {
        "id": "dyM0Dq96uGSu"
      },
      "execution_count": null,
      "outputs": []
    },
    {
      "cell_type": "markdown",
      "source": [
        "List objectives :\n",
        "\n",
        "1.   learn data science\n",
        "2.   strong understanding on code construction\n",
        "\n"
      ],
      "metadata": {
        "id": "9hiPDKq1yxDr"
      }
    },
    {
      "cell_type": "markdown",
      "source": [
        "Author :  Mike, TajenHwang"
      ],
      "metadata": {
        "id": "AAw24IOL0XML"
      }
    }
  ]
}